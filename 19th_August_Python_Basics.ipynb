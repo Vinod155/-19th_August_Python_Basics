{
 "cells": [
  {
   "cell_type": "markdown",
   "id": "c4b569a3-12c5-48fe-bbc9-c9ef6f955124",
   "metadata": {},
   "source": [
    "1. Declare two variables, `x` and `y`, and assign them integer values. Swap the\n",
    "   values of these variables without using any temporary variable."
   ]
  },
  {
   "cell_type": "code",
   "execution_count": 7,
   "id": "8737d29b-b635-4f53-a8e1-0e7bafa0b617",
   "metadata": {},
   "outputs": [
    {
     "name": "stdout",
     "output_type": "stream",
     "text": [
      "5 4\n"
     ]
    }
   ],
   "source": [
    "x=4\n",
    "y=5\n",
    "x=y+x\n",
    "y=x-y\n",
    "x=x-y\n",
    "print(x,y)\n"
   ]
  },
  {
   "cell_type": "markdown",
   "id": "d962ff1f-a285-477a-abac-9463a92f8f1f",
   "metadata": {},
   "source": [
    "2. Create a program that calculates the area of a rectangle. Take the length and\n",
    "   width as inputs from the user and store them in variables. Calculate and\n",
    "   display the area."
   ]
  },
  {
   "cell_type": "code",
   "execution_count": 13,
   "id": "d65aaa03-023a-40af-ab76-30bd93039a91",
   "metadata": {},
   "outputs": [
    {
     "name": "stdin",
     "output_type": "stream",
     "text": [
      " 5\n",
      " 6\n"
     ]
    },
    {
     "name": "stdout",
     "output_type": "stream",
     "text": [
      "Area: 30\n"
     ]
    }
   ],
   "source": [
    "length=int(input())\n",
    "width=int(input())\n",
    "area=length*width\n",
    "print(\"Area:\",area)"
   ]
  },
  {
   "cell_type": "markdown",
   "id": "96382232-f726-4890-9084-25ca6ea3728d",
   "metadata": {},
   "source": [
    "3. Write a Python program that converts temperatures from Celsius to\n",
    "   Fahrenheit. Take the temperature in Celsius as input, store it in a variable,\n",
    "   convert it to Fahrenheit, and display the result."
   ]
  },
  {
   "cell_type": "code",
   "execution_count": 22,
   "id": "3ca6c2b3-fe15-434d-806e-dfebb6573512",
   "metadata": {},
   "outputs": [
    {
     "name": "stdin",
     "output_type": "stream",
     "text": [
      " 23\n"
     ]
    },
    {
     "name": "stdout",
     "output_type": "stream",
     "text": [
      "Temperature in Farehnheit:  73.4\n"
     ]
    }
   ],
   "source": [
    "tempInCelcius=int(input())\n",
    "tempInFahrenheit=(tempInCelcius * 9/5) + 32\n",
    "print(\"Temperature in Farehnheit: \",tempInFahrenheit)"
   ]
  },
  {
   "cell_type": "markdown",
   "id": "87859256-3f49-47c3-95d2-c63d05c1117d",
   "metadata": {},
   "source": [
    "TOPIC: String Based Questions"
   ]
  },
  {
   "cell_type": "markdown",
   "id": "3f4ac113-d3af-4581-8ffa-80ea484c99a1",
   "metadata": {},
   "source": [
    "1. Write a Python program that takes a string as input and prints the length of\n",
    "the string."
   ]
  },
  {
   "cell_type": "code",
   "execution_count": 21,
   "id": "c98a6ae0-d949-407b-a3b9-50ce48b52f77",
   "metadata": {},
   "outputs": [
    {
     "name": "stdin",
     "output_type": "stream",
     "text": [
      " 123\n"
     ]
    },
    {
     "name": "stdout",
     "output_type": "stream",
     "text": [
      "Length of string:  3\n"
     ]
    }
   ],
   "source": [
    "_str=input()\n",
    "strLength=len(_str)\n",
    "print(\"Length of string: \",strLength)"
   ]
  },
  {
   "cell_type": "markdown",
   "id": "4f6e80c2-a53d-440b-8225-54c1b916f902",
   "metadata": {},
   "source": [
    "2. Create a program that takes a sentence from the user and counts the number\n",
    "of vowels (a, e, i, o, u) in the string.\n"
   ]
  },
  {
   "cell_type": "code",
   "execution_count": 28,
   "id": "295f89e5-df3a-4ecc-80b4-66cd52c6f585",
   "metadata": {},
   "outputs": [
    {
     "name": "stdin",
     "output_type": "stream",
     "text": [
      " aeioueuioa\n"
     ]
    },
    {
     "name": "stdout",
     "output_type": "stream",
     "text": [
      "No of vowels:  10\n"
     ]
    }
   ],
   "source": [
    "sentence=input()\n",
    "count=0\n",
    "for i in sentence:\n",
    "    if(i=='a' or i=='e' or i=='i'or i=='o'or i=='u'):\n",
    "        count=count+1\n",
    "print(\"No of vowels: \",count)                "
   ]
  },
  {
   "cell_type": "markdown",
   "id": "32f9da6b-7b07-4d54-8530-ed488ac957cd",
   "metadata": {},
   "source": [
    "3. Given a string, reverse the order of characters using string slicing and print\n",
    "the reversed string.\n"
   ]
  },
  {
   "cell_type": "code",
   "execution_count": 29,
   "id": "ab463f46-4b82-47f4-b315-f80c3ab0d0a2",
   "metadata": {},
   "outputs": [
    {
     "data": {
      "text/plain": [
       "'einniv'"
      ]
     },
     "execution_count": 29,
     "metadata": {},
     "output_type": "execute_result"
    }
   ],
   "source": [
    "_str=\"vinnie\"\n",
    "_str[::-1]"
   ]
  },
  {
   "cell_type": "markdown",
   "id": "d9ac8125-10ee-4b4e-99d1-d21bddafb840",
   "metadata": {},
   "source": [
    "4. Write a program that takes a string as input and checks if it is a palindrome\n",
    "(reads the same forwards and backwards)."
   ]
  },
  {
   "cell_type": "code",
   "execution_count": 32,
   "id": "b5470cd2-f4fd-4be4-b0bf-63e8573aa31c",
   "metadata": {},
   "outputs": [
    {
     "name": "stdin",
     "output_type": "stream",
     "text": [
      " 11211\n"
     ]
    },
    {
     "name": "stdout",
     "output_type": "stream",
     "text": [
      "given string is palindrome\n"
     ]
    }
   ],
   "source": [
    "str1=input()\n",
    "str2=str1[::-1]\n",
    "if(str1==str2):\n",
    "    print(\"given string is palindrome\")\n",
    "else:\n",
    "    print(\"given string is not palindrome\")\n",
    "    "
   ]
  },
  {
   "cell_type": "markdown",
   "id": "2dc7f360-5fea-4db9-8e1b-36f4b14984f9",
   "metadata": {},
   "source": [
    "5. Create a program that takes a string as input and removes all the spaces from\n",
    "it. Print the modified string without spaces."
   ]
  },
  {
   "cell_type": "code",
   "execution_count": 34,
   "id": "9a1dabd8-69e1-4f2b-8e97-86602b3ae03e",
   "metadata": {},
   "outputs": [
    {
     "name": "stdin",
     "output_type": "stream",
     "text": [
      " a vbbb g\n"
     ]
    },
    {
     "data": {
      "text/plain": [
       "'avbbbg'"
      ]
     },
     "execution_count": 34,
     "metadata": {},
     "output_type": "execute_result"
    }
   ],
   "source": [
    "str1=input()\n",
    "str1.replace(\" \",\"\")"
   ]
  },
  {
   "cell_type": "code",
   "execution_count": null,
   "id": "b52c8588-fbd5-48fc-bd3d-f2f8183151d9",
   "metadata": {},
   "outputs": [],
   "source": []
  }
 ],
 "metadata": {
  "kernelspec": {
   "display_name": "Python 3 (ipykernel)",
   "language": "python",
   "name": "python3"
  },
  "language_info": {
   "codemirror_mode": {
    "name": "ipython",
    "version": 3
   },
   "file_extension": ".py",
   "mimetype": "text/x-python",
   "name": "python",
   "nbconvert_exporter": "python",
   "pygments_lexer": "ipython3",
   "version": "3.10.8"
  }
 },
 "nbformat": 4,
 "nbformat_minor": 5
}
